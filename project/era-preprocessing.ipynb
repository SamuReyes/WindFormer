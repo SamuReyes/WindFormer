{
 "cells": [
  {
   "cell_type": "code",
   "execution_count": 1,
   "metadata": {},
   "outputs": [],
   "source": [
    "# #!COSAS POR HACER\n",
    "# - Hacer script a partir del notebook\n",
    "# - Añadir normalizacion"
   ]
  },
  {
   "cell_type": "code",
   "execution_count": 2,
   "metadata": {},
   "outputs": [],
   "source": [
    "#!pip install netCDF4"
   ]
  },
  {
   "cell_type": "code",
   "execution_count": 3,
   "metadata": {},
   "outputs": [],
   "source": [
    "import yaml\n",
    "\n",
    "def load_config():\n",
    "    with open(\"./config/params.yaml\", \"r\") as f:\n",
    "        return yaml.load(f, Loader=yaml.FullLoader)"
   ]
  },
  {
   "cell_type": "code",
   "execution_count": 3,
   "metadata": {},
   "outputs": [],
   "source": [
    "import netCDF4 as nc\n",
    "import os\n",
    "import sys\n",
    "import numpy as np\n",
    "import matplotlib.pyplot as plt\n",
    "import glob"
   ]
  },
  {
   "cell_type": "code",
   "execution_count": 4,
   "metadata": {},
   "outputs": [],
   "source": [
    "PATH = '/home/samuel/Documents/local/projects/UPM/TFM/raw_data'\n",
    "\n",
    "LONGITUDE = (18, 35)\n",
    "LATITUDE = (10, 28)\n",
    "LEVELS = (0, 8)"
   ]
  },
  {
   "cell_type": "code",
   "execution_count": 5,
   "metadata": {},
   "outputs": [],
   "source": [
    "def extract_data(path, var_names, level):\n",
    "\n",
    "    if level == 'upper':\n",
    "        files = sorted(glob.glob(path + '/*-*-upper.nc'))\n",
    "\n",
    "    elif level == 'surface':\n",
    "        files = sorted(glob.glob(path + '/*-*-surface.nc'))\n",
    "    else:\n",
    "        raise ValueError('level must be \"upper\" or \"surface\"')\n",
    "\n",
    "    # Dictionary to store concatenated data\n",
    "    data = {var: [] for var in var_names}\n",
    "\n",
    "    # Itearte over each file\n",
    "    for file in files:\n",
    "        with nc.Dataset(file, 'r') as nc_file:\n",
    "            for var in var_names:\n",
    "                if var == 'time':\n",
    "                    data[var].append(nc_file.variables[var][:])\n",
    "                else:\n",
    "                    if level == 'upper':\n",
    "                        data[var].append(nc_file.variables[var][:,LEVELS[0]:LEVELS[1]+1, LATITUDE[0]:LATITUDE[1]+1, LONGITUDE[0]:LONGITUDE[1]+1])\n",
    "                    elif level == 'surface':\n",
    "                        data[var].append(nc_file.variables[var][:,LATITUDE[0]:LATITUDE[1]+1, LONGITUDE[0]:LONGITUDE[1]+1])\n",
    "\n",
    "    # Concatenate data for each variable\n",
    "    for var in var_names:\n",
    "        data[var] = np.concatenate(data[var], axis=0)\n",
    "        data[var] = data[var].filled(np.nan)\n",
    "\n",
    "    return data\n"
   ]
  },
  {
   "cell_type": "code",
   "execution_count": 6,
   "metadata": {},
   "outputs": [],
   "source": [
    "upper_var_names = ['time', 'u', 'v', 'q', 't', 'd', 'z', 'w', 'vo']\n",
    "surface_var_names = ['time', 'u100', 'v100', 'u10', 'v10', 'd2m', 't2m', 'z', 'msl']\n",
    "\n",
    "upper_data = extract_data(PATH, upper_var_names, 'upper')\n",
    "surface_data = extract_data(PATH, surface_var_names, 'surface')\n"
   ]
  },
  {
   "cell_type": "markdown",
   "metadata": {},
   "source": [
    "## Save constants"
   ]
  },
  {
   "cell_type": "code",
   "execution_count": 7,
   "metadata": {},
   "outputs": [],
   "source": [
    "\n",
    "with nc.Dataset('/home/samuel/Documents/local/projects/UPM/TFM/raw_data/2021-02-upper.nc', 'r') as nc_file:\n",
    "    np.save('./config/latitude.npy', nc_file.variables[\"latitude\"][:].filled(np.nan).astype(np.float16))\n",
    "    np.save('./config/longitude.npy', nc_file.variables[\"longitude\"][:].filled(np.nan).astype(np.float16))\n",
    "    np.save('./config/level.npy', nc_file.variables[\"level\"][:].filled(np.nan).astype(np.uint16))\n",
    "    \n",
    "with nc.Dataset('/home/samuel/Documents/local/projects/UPM/TFM/raw_data/2021-02-surface.nc', 'r') as nc_file:\n",
    "    np.save('./config/land_sea_mask.npy', nc_file.variables[\"lsm\"][:].filled(np.nan).astype(np.float32))"
   ]
  },
  {
   "cell_type": "code",
   "execution_count": 8,
   "metadata": {},
   "outputs": [],
   "source": [
    "np.save('./data/time.npy', upper_data['time'].astype('uint32'))\n",
    "\n",
    "del upper_data['time']\n",
    "del surface_data['time']\n",
    "\n",
    "upper_var_names.remove('time')\n",
    "surface_var_names.remove('time')"
   ]
  },
  {
   "cell_type": "markdown",
   "metadata": {},
   "source": [
    "## Reducción de tamaño\n",
    "Se baja la precisión de las matrices numpy a float32, float16 y uint32"
   ]
  },
  {
   "cell_type": "code",
   "execution_count": 9,
   "metadata": {},
   "outputs": [
    {
     "name": "stdout",
     "output_type": "stream",
     "text": [
      "Upper variables\n",
      "\n",
      "u float64\n",
      "v float64\n",
      "q float64\n",
      "t float64\n",
      "d float64\n",
      "z float64\n",
      "w float64\n",
      "vo float64\n",
      "\n",
      "Surface variables\n",
      "\n",
      "u100 float64\n",
      "v100 float64\n",
      "u10 float64\n",
      "v10 float64\n",
      "d2m float64\n",
      "t2m float64\n",
      "z float64\n",
      "msl float64\n"
     ]
    }
   ],
   "source": [
    "print(\"Upper variables\\n\")\n",
    "for var in upper_data.keys():\n",
    "    print(var, upper_data[var].dtype)\n",
    "\n",
    "print(\"\\nSurface variables\\n\")\n",
    "for var in surface_data.keys():\n",
    "    print(var, surface_data[var].dtype)"
   ]
  },
  {
   "cell_type": "code",
   "execution_count": 10,
   "metadata": {},
   "outputs": [
    {
     "name": "stdout",
     "output_type": "stream",
     "text": [
      "Upper:  6907.327488000001 MB\n",
      "Surface:  767.4808320000001 MB\n",
      "\n",
      "Total size:  7674.808320000001 MB\n"
     ]
    }
   ],
   "source": [
    "upper_total = 0\n",
    "surface_total = 0\n",
    "\n",
    "for var in upper_data.keys():\n",
    "    upper_total += upper_data[var].nbytes/1e6\n",
    "print(\"Upper: \", upper_total, \"MB\")\n",
    "\n",
    "for var in surface_data.keys():\n",
    "    surface_total += surface_data[var].nbytes/1e6\n",
    "print(\"Surface: \", surface_total, \"MB\")\n",
    "\n",
    "print(\"\\nTotal size: \", upper_total + surface_total, \"MB\")"
   ]
  },
  {
   "cell_type": "code",
   "execution_count": 11,
   "metadata": {},
   "outputs": [],
   "source": [
    "for var in upper_data.keys():\n",
    "    upper_data[var] = upper_data[var].astype(np.float32)\n",
    "\n",
    "for var in surface_data.keys():\n",
    "    surface_data[var] = surface_data[var].astype(np.float32)\n"
   ]
  },
  {
   "cell_type": "code",
   "execution_count": 12,
   "metadata": {},
   "outputs": [
    {
     "name": "stdout",
     "output_type": "stream",
     "text": [
      "Upper:  3453.6637440000004 MB\n",
      "Surface:  383.74041600000004 MB\n",
      "\n",
      "Total size:  3837.4041600000005 MB\n"
     ]
    }
   ],
   "source": [
    "upper_total = 0\n",
    "surface_total = 0\n",
    "\n",
    "for var in upper_var_names:\n",
    "    upper_total += upper_data[var].nbytes/1e6\n",
    "print(\"Upper: \", upper_total, \"MB\")\n",
    "\n",
    "for var in surface_var_names:\n",
    "    surface_total += surface_data[var].nbytes/1e6\n",
    "print(\"Surface: \", surface_total, \"MB\")\n",
    "\n",
    "print(\"\\nTotal size: \", upper_total + surface_total, \"MB\")"
   ]
  },
  {
   "cell_type": "markdown",
   "metadata": {},
   "source": [
    "## Save data"
   ]
  },
  {
   "cell_type": "code",
   "execution_count": 13,
   "metadata": {},
   "outputs": [
    {
     "name": "stdout",
     "output_type": "stream",
     "text": [
      "u (35064, 9, 19, 18)\n",
      "v (35064, 9, 19, 18)\n",
      "q (35064, 9, 19, 18)\n",
      "t (35064, 9, 19, 18)\n",
      "d (35064, 9, 19, 18)\n",
      "z (35064, 9, 19, 18)\n",
      "w (35064, 9, 19, 18)\n",
      "vo (35064, 9, 19, 18)\n",
      "u100 (35064, 19, 18)\n",
      "v100 (35064, 19, 18)\n",
      "u10 (35064, 19, 18)\n",
      "v10 (35064, 19, 18)\n",
      "d2m (35064, 19, 18)\n",
      "t2m (35064, 19, 18)\n",
      "z (35064, 19, 18)\n",
      "msl (35064, 19, 18)\n",
      "(35064, 9, 19, 18, 8)\n",
      "(35064, 19, 18, 8)\n"
     ]
    }
   ],
   "source": [
    "\n",
    "surface_data_arrays = []\n",
    "upper_data_arrays = []\n",
    "\n",
    "for var in upper_data.keys():\n",
    "    print(var, upper_data[var].shape)\n",
    "    upper_data_arrays.append(upper_data[var])\n",
    "\n",
    "for var in surface_data.keys():\n",
    "    print(var, surface_data[var].shape)\n",
    "    surface_data_arrays.append(surface_data[var])\n",
    "\n",
    "\n",
    "combined_upper_data = np.stack(upper_data_arrays, axis=-1)\n",
    "combined_surface_data = np.stack(surface_data_arrays, axis=-1)\n",
    "\n",
    "del surface_data_arrays\n",
    "del upper_data_arrays\n",
    "del upper_data\n",
    "del surface_data\n",
    "\n",
    "# Imprime la forma del arreglo combinado\n",
    "print(combined_upper_data.shape)\n",
    "print(combined_surface_data.shape)"
   ]
  },
  {
   "cell_type": "code",
   "execution_count": 14,
   "metadata": {},
   "outputs": [],
   "source": [
    "np.save('./data/surface.npy', combined_surface_data)\n",
    "np.save('./data/upper.npy', combined_upper_data)"
   ]
  },
  {
   "cell_type": "code",
   "execution_count": 15,
   "metadata": {},
   "outputs": [
    {
     "data": {
      "text/plain": [
       "\"\\ncurrent_path = os.path.join(PATH, '2022-01-upper.nc')\\n\\nwith nc.Dataset(current_path) as nc_file:\\n\\n    # Coordenadas fijas\\n    lat_index = 26\\n    lon_index = 18\\n\\n    # Extraer variables u y v (velocidad del viento)\\n    u = nc_file.variables['u'][:, 0, lat_index, lon_index]\\n    v = nc_file.variables['v'][:, 0, lat_index, lon_index]\\n\\n    # Calcular la velocidad total del viento para cada timestamp\\n    velocidad_viento = np.sqrt(u**2 + v**2)\\n\\n    # Preparar el gráfico\\n    plt.figure()\\n    plt.plot(velocidad_viento)\\n    plt.title('Velocidad del Viento a lo Largo del Tiempo en una Ubicación Fija')\\n    plt.xlabel('Timestamp')\\n    plt.ylabel('Velocidad del Viento')\\n    plt.show()\\n\""
      ]
     },
     "execution_count": 15,
     "metadata": {},
     "output_type": "execute_result"
    }
   ],
   "source": [
    "\"\"\"\n",
    "current_path = os.path.join(PATH, '2022-01-upper.nc')\n",
    "\n",
    "with nc.Dataset(current_path) as nc_file:\n",
    "\n",
    "    # Coordenadas fijas\n",
    "    lat_index = 26\n",
    "    lon_index = 18\n",
    "\n",
    "    # Extraer variables u y v (velocidad del viento)\n",
    "    u = nc_file.variables['u'][:, 0, lat_index, lon_index]\n",
    "    v = nc_file.variables['v'][:, 0, lat_index, lon_index]\n",
    "\n",
    "    # Calcular la velocidad total del viento para cada timestamp\n",
    "    velocidad_viento = np.sqrt(u**2 + v**2)\n",
    "\n",
    "    # Preparar el gráfico\n",
    "    plt.figure()\n",
    "    plt.plot(velocidad_viento)\n",
    "    plt.title('Velocidad del Viento a lo Largo del Tiempo en una Ubicación Fija')\n",
    "    plt.xlabel('Timestamp')\n",
    "    plt.ylabel('Velocidad del Viento')\n",
    "    plt.show()\n",
    "\"\"\""
   ]
  }
 ],
 "metadata": {
  "kernelspec": {
   "display_name": "automatic",
   "language": "python",
   "name": "python3"
  },
  "language_info": {
   "codemirror_mode": {
    "name": "ipython",
    "version": 3
   },
   "file_extension": ".py",
   "mimetype": "text/x-python",
   "name": "python",
   "nbconvert_exporter": "python",
   "pygments_lexer": "ipython3",
   "version": "3.10.13"
  }
 },
 "nbformat": 4,
 "nbformat_minor": 2
}

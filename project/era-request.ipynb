{
 "cells": [
  {
   "cell_type": "code",
   "execution_count": 1,
   "metadata": {},
   "outputs": [],
   "source": [
    "#!pip install cdsapi"
   ]
  },
  {
   "cell_type": "code",
   "execution_count": 2,
   "metadata": {},
   "outputs": [],
   "source": [
    "import cdsapi\n",
    "import datetime\n",
    "import os"
   ]
  },
  {
   "cell_type": "markdown",
   "metadata": {},
   "source": [
    "## Variables que extraer\n",
    "\n",
    "Se prescinde de suface_pressure por su alta relación con mean_sea_level_pressure."
   ]
  },
  {
   "cell_type": "code",
   "execution_count": 3,
   "metadata": {},
   "outputs": [],
   "source": [
    "surface_variables = ['100m_u_component_of_wind', '100m_v_component_of_wind', '10m_u_component_of_wind',\n",
    "                    '10m_v_component_of_wind', '2m_dewpoint_temperature', '2m_temperature',\n",
    "                    'geopotential', 'mean_sea_level_pressure', 'land_sea_mask']\n",
    "upper_variables = ['u_component_of_wind', 'v_component_of_wind', 'specific_humidity', 'temperature', \n",
    "                   'divergence', 'geopotential', 'vertical_velocity', 'vorticity']\n",
    "\n",
    "area = [43, -6, 38, 1]\n",
    "\n",
    "area = [45, -10, 35, 4]\n",
    "pressure_levels = ['950','925','900','850','800','700','600','500','250']"
   ]
  },
  {
   "cell_type": "code",
   "execution_count": 4,
   "metadata": {},
   "outputs": [],
   "source": [
    "PATH = '/data/'"
   ]
  },
  {
   "cell_type": "code",
   "execution_count": 5,
   "metadata": {},
   "outputs": [],
   "source": [
    "\n",
    "months = [] \n",
    "for i in range(5, 12 + 1):\n",
    "    month_str = f\"{i:02d}\"\n",
    "    month_dict = {'month': month_str}\n",
    "    if i == 2:\n",
    "        month_dict['days'] = [f\"{day:02d}\" for day in range(1, 29 + 1)] # !TENER EN CUENTA LOS AÑOS BISIESTOS ..., 2012, 2016, 2020, 2024\n",
    "    elif i in [4, 6, 9, 11]:\n",
    "        month_dict['days'] = [f\"{day:02d}\" for day in range(1, 30 + 1)]\n",
    "    else:\n",
    "        month_dict['days'] = [f\"{day:02d}\" for day in range(1, 31 + 1)]\n",
    "    \n",
    "    months.append(month_dict)\n",
    "\n",
    "years = [str(year) for year in range(2018, 2019)]\n",
    "\n",
    "hours = [f\"{hour:02d}:00\" for hour in range(24)]"
   ]
  },
  {
   "cell_type": "code",
   "execution_count": 6,
   "metadata": {},
   "outputs": [
    {
     "name": "stderr",
     "output_type": "stream",
     "text": [
      "2023-11-30 21:00:36,076 INFO Welcome to the CDS\n",
      "2023-11-30 21:00:36,077 INFO Sending request to https://cds.climate.copernicus.eu/api/v2/resources/reanalysis-era5-pressure-levels\n",
      "2023-11-30 21:00:36,226 INFO Request is completed\n",
      "2023-11-30 21:00:36,227 INFO Downloading https://download-0011-clone.copernicus-climate.eu/cache-compute-0011/cache/data5/adaptor.mars.internal-1701372142.9145122-21815-14-83ceeba6-e3d6-44c3-b936-4d5b6396009f.nc to 2018-05-upper.nc (238.8M)\n",
      "2023-11-30 21:01:23,491 INFO Download rate 5.1M/s  \n",
      "2023-11-30 21:01:23,565 INFO Welcome to the CDS\n",
      "2023-11-30 21:01:23,566 INFO Sending request to https://cds.climate.copernicus.eu/api/v2/resources/reanalysis-era5-single-levels\n",
      "2023-11-30 21:01:23,655 INFO Request is queued\n",
      "2023-11-30 21:01:26,234 INFO Request is running\n",
      "2023-11-30 21:07:42,239 INFO Request is completed\n",
      "2023-11-30 21:07:42,240 INFO Downloading https://download-0003-clone.copernicus-climate.eu/cache-compute-0003/cache/data5/adaptor.mars.internal-1701374742.5777483-32220-14-cbe4f37e-d6d8-465f-adce-1e5d057017bd.nc to 2018-05-surface.nc (29.9M)\n",
      "2023-11-30 21:07:44,251 INFO Download rate 14.8M/s  \n",
      "2023-11-30 21:07:44,332 INFO Welcome to the CDS\n",
      "2023-11-30 21:07:44,332 INFO Sending request to https://cds.climate.copernicus.eu/api/v2/resources/reanalysis-era5-pressure-levels\n",
      "2023-11-30 21:07:44,402 INFO Request is queued\n"
     ]
    },
    {
     "name": "stdout",
     "output_type": "stream",
     "text": [
      "Year: 2018, Month: 05. Downloaded in: 0:07:08.849081 seconds.\n"
     ]
    },
    {
     "name": "stderr",
     "output_type": "stream",
     "text": [
      "2023-11-30 21:07:45,444 INFO Request is running\n"
     ]
    }
   ],
   "source": [
    "c = cdsapi.Client()\n",
    "\n",
    "for year in years:\n",
    "    for month in months:\n",
    "\n",
    "        current_time = datetime.datetime.now() \n",
    "\n",
    "        name_upper = str(year + '-' + month['month'] + '-upper.nc')\n",
    "        name_surface = str(year + '-' + month['month'] + '-surface.nc')\n",
    "\n",
    "        c.retrieve('reanalysis-era5-pressure-levels',\n",
    "        {\n",
    "        'variable': upper_variables,\n",
    "        'pressure_level': pressure_levels,\n",
    "        'product_type': 'reanalysis',\n",
    "        'year': year,\n",
    "        'month': month['month'],\n",
    "        'day': month['days'],\n",
    "        'time': hours,\n",
    "        'format': 'netcdf',\n",
    "        'area': area\n",
    "        }, name_upper)\n",
    "\n",
    "        c.retrieve('reanalysis-era5-single-levels',\n",
    "        {\n",
    "        'variable': surface_variables,\n",
    "        'product_type': 'reanalysis',\n",
    "        'year': year,\n",
    "        'month': month['month'],\n",
    "        'day': month['days'],\n",
    "        'time': hours,\n",
    "        'format': 'netcdf',\n",
    "        'area': area\n",
    "        }, name_surface)\n",
    "\n",
    "        print(f\"Year: {year}, Month: {month['month']}. Downloaded in: {datetime.datetime.now() - current_time} seconds.\")"
   ]
  }
 ],
 "metadata": {
  "kernelspec": {
   "display_name": "automatic",
   "language": "python",
   "name": "python3"
  },
  "language_info": {
   "codemirror_mode": {
    "name": "ipython",
    "version": 3
   },
   "file_extension": ".py",
   "mimetype": "text/x-python",
   "name": "python",
   "nbconvert_exporter": "python",
   "pygments_lexer": "ipython3",
   "version": "3.10.13"
  }
 },
 "nbformat": 4,
 "nbformat_minor": 2
}

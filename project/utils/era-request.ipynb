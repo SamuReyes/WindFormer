{
 "cells": [
  {
   "cell_type": "code",
   "execution_count": 2,
   "metadata": {},
   "outputs": [],
   "source": [
    "#!pip install cdsapi"
   ]
  },
  {
   "cell_type": "code",
   "execution_count": 3,
   "metadata": {},
   "outputs": [],
   "source": [
    "import cdsapi\n",
    "import datetime\n",
    "import os"
   ]
  },
  {
   "cell_type": "markdown",
   "metadata": {},
   "source": [
    "## Variables que extraer\n",
    "\n",
    "Se prescinde de suface_pressure por su alta relación con mean_sea_level_pressure."
   ]
  },
  {
   "cell_type": "code",
   "execution_count": 4,
   "metadata": {},
   "outputs": [],
   "source": [
    "surface_variables = ['100m_u_component_of_wind', '100m_v_component_of_wind', '10m_u_component_of_wind',\n",
    "                    '10m_v_component_of_wind', '2m_dewpoint_temperature', '2m_temperature',\n",
    "                    'geopotential', 'mean_sea_level_pressure', 'land_sea_mask', 'instantaneous_10m_wind_gust']\n",
    "upper_variables = ['u_component_of_wind', 'v_component_of_wind', 'specific_humidity', 'temperature', \n",
    "                   'divergence', 'geopotential', 'vertical_velocity', 'vorticity']\n",
    "\n",
    "area = [43, -6, 38, 1]\n",
    "\n",
    "area = [45, -10, 35, 4]\n",
    "pressure_levels = ['950','925','900','850','800','700','600','500','250']"
   ]
  },
  {
   "cell_type": "code",
   "execution_count": 5,
   "metadata": {},
   "outputs": [],
   "source": [
    "PATH = '/data/'"
   ]
  },
  {
   "cell_type": "code",
   "execution_count": 6,
   "metadata": {},
   "outputs": [],
   "source": [
    "\n",
    "months = [] \n",
    "for i in range(11, 12 + 1):\n",
    "    month_str = f\"{i:02d}\"\n",
    "    month_dict = {'month': month_str}\n",
    "    if i == 2:\n",
    "        month_dict['days'] = [f\"{day:02d}\" for day in range(1, 29 + 1)] # !TENER EN CUENTA LOS AÑOS BISIESTOS ..., 2012, 2016, 2020, 2024\n",
    "    elif i in [4, 6, 9, 11]:\n",
    "        month_dict['days'] = [f\"{day:02d}\" for day in range(1, 30 + 1)]\n",
    "    else:\n",
    "        month_dict['days'] = [f\"{day:02d}\" for day in range(1, 31 + 1)]\n",
    "    \n",
    "    months.append(month_dict)\n",
    "\n",
    "years = [str(year) for year in range(2018, 2019)]\n",
    "\n",
    "hours = [f\"{hour:02d}:00\" for hour in range(24)]"
   ]
  },
  {
   "cell_type": "code",
   "execution_count": 7,
   "metadata": {},
   "outputs": [
    {
     "name": "stderr",
     "output_type": "stream",
     "text": [
      "2023-12-01 10:42:12,734 INFO Welcome to the CDS\n",
      "2023-12-01 10:42:12,734 INFO Sending request to https://cds.climate.copernicus.eu/api/v2/resources/reanalysis-era5-pressure-levels\n",
      "2023-12-01 10:42:12,996 INFO Request is completed\n",
      "2023-12-01 10:42:12,996 INFO Downloading https://download-0010-clone.copernicus-climate.eu/cache-compute-0010/cache/data3/adaptor.mars.internal-1701386056.1887426-26483-1-fd4db1c1-2630-4168-a1b5-6b7d116ba3bb.nc to 2018-11-upper.nc (231.1M)\n",
      "2023-12-01 10:42:37,556 INFO Download rate 9.4M/s  \n",
      "2023-12-01 10:42:37,652 INFO Welcome to the CDS\n",
      "2023-12-01 10:42:37,653 INFO Sending request to https://cds.climate.copernicus.eu/api/v2/resources/reanalysis-era5-single-levels\n",
      "2023-12-01 10:42:37,735 INFO Request is queued\n",
      "2023-12-01 10:42:38,778 INFO Request is running\n",
      "2023-12-01 10:48:56,719 INFO Request is completed\n",
      "2023-12-01 10:48:56,720 INFO Downloading https://download-0015-clone.copernicus-climate.eu/cache-compute-0015/cache/data1/adaptor.mars.internal-1701424024.5643609-6940-3-64c1f4b4-3865-45ec-9173-57ade45197f3.nc to 2018-11-surface.nc (28.9M)\n",
      "2023-12-01 10:48:58,584 INFO Download rate 15.5M/s  \n",
      "2023-12-01 10:48:58,664 INFO Welcome to the CDS\n",
      "2023-12-01 10:48:58,664 INFO Sending request to https://cds.climate.copernicus.eu/api/v2/resources/reanalysis-era5-pressure-levels\n",
      "2023-12-01 10:48:58,816 INFO Request is queued\n"
     ]
    },
    {
     "name": "stdout",
     "output_type": "stream",
     "text": [
      "Year: 2018, Month: 11. Downloaded in: 0:06:46.088629 seconds.\n"
     ]
    },
    {
     "name": "stderr",
     "output_type": "stream",
     "text": [
      "2023-12-01 10:48:59,858 INFO Request is running\n"
     ]
    }
   ],
   "source": [
    "c = cdsapi.Client()\n",
    "\n",
    "for year in years:\n",
    "    for month in months:\n",
    "\n",
    "        current_time = datetime.datetime.now() \n",
    "\n",
    "        name_upper = str(year + '-' + month['month'] + '-upper.nc')\n",
    "        name_surface = str(year + '-' + month['month'] + '-surface.nc')\n",
    "\n",
    "        c.retrieve('reanalysis-era5-pressure-levels',\n",
    "        {\n",
    "        'variable': upper_variables,\n",
    "        'pressure_level': pressure_levels,\n",
    "        'product_type': 'reanalysis',\n",
    "        'year': year,\n",
    "        'month': month['month'],\n",
    "        'day': month['days'],\n",
    "        'time': hours,\n",
    "        'format': 'netcdf',\n",
    "        'area': area\n",
    "        }, name_upper)\n",
    "\n",
    "        c.retrieve('reanalysis-era5-single-levels',\n",
    "        {\n",
    "        'variable': surface_variables,\n",
    "        'product_type': 'reanalysis',\n",
    "        'year': year,\n",
    "        'month': month['month'],\n",
    "        'day': month['days'],\n",
    "        'time': hours,\n",
    "        'format': 'netcdf',\n",
    "        'area': area\n",
    "        }, name_surface)\n",
    "\n",
    "        print(f\"Year: {year}, Month: {month['month']}. Downloaded in: {datetime.datetime.now() - current_time} seconds.\")"
   ]
  }
 ],
 "metadata": {
  "kernelspec": {
   "display_name": "automatic",
   "language": "python",
   "name": "python3"
  },
  "language_info": {
   "codemirror_mode": {
    "name": "ipython",
    "version": 3
   },
   "file_extension": ".py",
   "mimetype": "text/x-python",
   "name": "python",
   "nbconvert_exporter": "python",
   "pygments_lexer": "ipython3",
   "version": "3.10.13"
  }
 },
 "nbformat": 4,
 "nbformat_minor": 2
}

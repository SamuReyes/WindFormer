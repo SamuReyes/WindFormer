{
 "cells": [
  {
   "cell_type": "code",
   "execution_count": 1,
   "metadata": {},
   "outputs": [],
   "source": [
    "import cdsapi\n",
    "import datetime\n",
    "import os"
   ]
  },
  {
   "cell_type": "markdown",
   "metadata": {},
   "source": [
    "## Vars to extract\n",
    "\n",
    "Suface_pressure is omitted due to its high relationship with mean_sea_level_pressure."
   ]
  },
  {
   "cell_type": "code",
   "execution_count": 2,
   "metadata": {},
   "outputs": [],
   "source": [
    "surface_variables = ['100m_u_component_of_wind', '100m_v_component_of_wind', '10m_u_component_of_wind',\n",
    "                    '10m_v_component_of_wind', '2m_dewpoint_temperature', '2m_temperature',\n",
    "                    'geopotential', 'mean_sea_level_pressure', 'instantaneous_10m_wind_gust', 'land_sea_mask']\n",
    "upper_variables = ['u_component_of_wind', 'v_component_of_wind', 'specific_humidity', 'temperature', \n",
    "                   'divergence', 'geopotential', 'vertical_velocity', 'vorticity']\n",
    "\n",
    "area = [45, -10, 35, 4]\n",
    "pressure_levels = ['950','925','900','850','800','700','600','500','250']"
   ]
  },
  {
   "cell_type": "code",
   "execution_count": 3,
   "metadata": {},
   "outputs": [],
   "source": [
    "PATH = '/data/'"
   ]
  },
  {
   "cell_type": "code",
   "execution_count": 4,
   "metadata": {},
   "outputs": [],
   "source": [
    "\n",
    "months = [] \n",
    "for i in range(1, 10 + 1):\n",
    "    month_str = f\"{i:02d}\"\n",
    "    month_dict = {'month': month_str}\n",
    "    if i == 2:\n",
    "        month_dict['days'] = [f\"{day:02d}\" for day in range(1, 29 + 1)] # !TAKE INTO ACCOUNT LEAP YEARS ..., 2012, 2016, 2020, 2024\n",
    "    elif i in [4, 6, 9, 11]:\n",
    "        month_dict['days'] = [f\"{day:02d}\" for day in range(1, 30 + 1)]\n",
    "    else:\n",
    "        month_dict['days'] = [f\"{day:02d}\" for day in range(1, 31 + 1)]\n",
    "    \n",
    "    months.append(month_dict)\n",
    "\n",
    "years = [str(year) for year in range(2017, 2018)]\n",
    "\n",
    "hours = [f\"{hour:02d}:00\" for hour in range(24)]"
   ]
  },
  {
   "cell_type": "code",
   "execution_count": null,
   "metadata": {},
   "outputs": [],
   "source": [
    "c = cdsapi.Client()\n",
    "\n",
    "for year in years:\n",
    "    for month in months:\n",
    "\n",
    "        current_time = datetime.datetime.now() \n",
    "\n",
    "        name_upper = str(year + '-' + month['month'] + '-upper.nc')\n",
    "        name_surface = str(year + '-' + month['month'] + '-surface.nc')\n",
    "\n",
    "        c.retrieve('reanalysis-era5-pressure-levels',\n",
    "        {\n",
    "        'variable': upper_variables,\n",
    "        'pressure_level': pressure_levels,\n",
    "        'product_type': 'reanalysis',\n",
    "        'year': year,\n",
    "        'month': month['month'],\n",
    "        'day': month['days'],\n",
    "        'time': hours,\n",
    "        'format': 'netcdf',\n",
    "        'area': area\n",
    "        }, name_upper)\n",
    "\n",
    "        c.retrieve('reanalysis-era5-single-levels',\n",
    "        {\n",
    "        'variable': surface_variables,\n",
    "        'product_type': 'reanalysis',\n",
    "        'year': year,\n",
    "        'month': month['month'],\n",
    "        'day': month['days'],\n",
    "        'time': hours,\n",
    "        'format': 'netcdf',\n",
    "        'area': area\n",
    "        }, name_surface)\n",
    "\n",
    "        print(f\"Year: {year}, Month: {month['month']}. Downloaded in: {datetime.datetime.now() - current_time} seconds.\")"
   ]
  }
 ],
 "metadata": {
  "kernelspec": {
   "display_name": "automatic",
   "language": "python",
   "name": "python3"
  },
  "language_info": {
   "codemirror_mode": {
    "name": "ipython",
    "version": 3
   },
   "file_extension": ".py",
   "mimetype": "text/x-python",
   "name": "python",
   "nbconvert_exporter": "python",
   "pygments_lexer": "ipython3",
   "version": "3.10.12"
  }
 },
 "nbformat": 4,
 "nbformat_minor": 2
}
